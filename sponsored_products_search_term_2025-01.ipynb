{
 "cells": [
  {
   "cell_type": "code",
   "execution_count": 1,
   "metadata": {},
   "outputs": [
    {
     "name": "stdout",
     "output_type": "stream",
     "text": [
      "Requirement already satisfied: pandas in c:\\users\\mark lumba\\anaconda3\\lib\\site-packages (2.0.3)\n",
      "Requirement already satisfied: python-dateutil>=2.8.2 in c:\\users\\mark lumba\\anaconda3\\lib\\site-packages (from pandas) (2.8.2)\n",
      "Requirement already satisfied: pytz>=2020.1 in c:\\users\\mark lumba\\anaconda3\\lib\\site-packages (from pandas) (2023.3.post1)\n",
      "Requirement already satisfied: tzdata>=2022.1 in c:\\users\\mark lumba\\anaconda3\\lib\\site-packages (from pandas) (2023.3)\n",
      "Requirement already satisfied: numpy>=1.21.0 in c:\\users\\mark lumba\\anaconda3\\lib\\site-packages (from pandas) (1.24.3)\n",
      "Requirement already satisfied: six>=1.5 in c:\\users\\mark lumba\\anaconda3\\lib\\site-packages (from python-dateutil>=2.8.2->pandas) (1.16.0)\n",
      "Note: you may need to restart the kernel to use updated packages.\n",
      "Requirement already satisfied: matplotlib in c:\\users\\mark lumba\\anaconda3\\lib\\site-packages (3.7.2)\n",
      "Requirement already satisfied: contourpy>=1.0.1 in c:\\users\\mark lumba\\anaconda3\\lib\\site-packages (from matplotlib) (1.0.5)\n",
      "Requirement already satisfied: cycler>=0.10 in c:\\users\\mark lumba\\anaconda3\\lib\\site-packages (from matplotlib) (0.11.0)\n",
      "Requirement already satisfied: fonttools>=4.22.0 in c:\\users\\mark lumba\\anaconda3\\lib\\site-packages (from matplotlib) (4.25.0)\n",
      "Requirement already satisfied: kiwisolver>=1.0.1 in c:\\users\\mark lumba\\anaconda3\\lib\\site-packages (from matplotlib) (1.4.4)\n",
      "Requirement already satisfied: numpy>=1.20 in c:\\users\\mark lumba\\anaconda3\\lib\\site-packages (from matplotlib) (1.24.3)\n",
      "Requirement already satisfied: packaging>=20.0 in c:\\users\\mark lumba\\anaconda3\\lib\\site-packages (from matplotlib) (23.1)\n",
      "Requirement already satisfied: pillow>=6.2.0 in c:\\users\\mark lumba\\anaconda3\\lib\\site-packages (from matplotlib) (9.4.0)\n",
      "Requirement already satisfied: pyparsing<3.1,>=2.3.1 in c:\\users\\mark lumba\\anaconda3\\lib\\site-packages (from matplotlib) (3.0.9)\n",
      "Requirement already satisfied: python-dateutil>=2.7 in c:\\users\\mark lumba\\anaconda3\\lib\\site-packages (from matplotlib) (2.8.2)\n",
      "Requirement already satisfied: six>=1.5 in c:\\users\\mark lumba\\anaconda3\\lib\\site-packages (from python-dateutil>=2.7->matplotlib) (1.16.0)\n",
      "Note: you may need to restart the kernel to use updated packages.\n",
      "Requirement already satisfied: seaborn in c:\\users\\mark lumba\\anaconda3\\lib\\site-packages (0.12.2)Note: you may need to restart the kernel to use updated packages.\n",
      "\n",
      "Requirement already satisfied: numpy!=1.24.0,>=1.17 in c:\\users\\mark lumba\\anaconda3\\lib\\site-packages (from seaborn) (1.24.3)\n",
      "Requirement already satisfied: pandas>=0.25 in c:\\users\\mark lumba\\anaconda3\\lib\\site-packages (from seaborn) (2.0.3)\n",
      "Requirement already satisfied: matplotlib!=3.6.1,>=3.1 in c:\\users\\mark lumba\\anaconda3\\lib\\site-packages (from seaborn) (3.7.2)\n",
      "Requirement already satisfied: contourpy>=1.0.1 in c:\\users\\mark lumba\\anaconda3\\lib\\site-packages (from matplotlib!=3.6.1,>=3.1->seaborn) (1.0.5)\n",
      "Requirement already satisfied: cycler>=0.10 in c:\\users\\mark lumba\\anaconda3\\lib\\site-packages (from matplotlib!=3.6.1,>=3.1->seaborn) (0.11.0)\n",
      "Requirement already satisfied: fonttools>=4.22.0 in c:\\users\\mark lumba\\anaconda3\\lib\\site-packages (from matplotlib!=3.6.1,>=3.1->seaborn) (4.25.0)\n",
      "Requirement already satisfied: kiwisolver>=1.0.1 in c:\\users\\mark lumba\\anaconda3\\lib\\site-packages (from matplotlib!=3.6.1,>=3.1->seaborn) (1.4.4)\n",
      "Requirement already satisfied: packaging>=20.0 in c:\\users\\mark lumba\\anaconda3\\lib\\site-packages (from matplotlib!=3.6.1,>=3.1->seaborn) (23.1)\n",
      "Requirement already satisfied: pillow>=6.2.0 in c:\\users\\mark lumba\\anaconda3\\lib\\site-packages (from matplotlib!=3.6.1,>=3.1->seaborn) (9.4.0)\n",
      "Requirement already satisfied: pyparsing<3.1,>=2.3.1 in c:\\users\\mark lumba\\anaconda3\\lib\\site-packages (from matplotlib!=3.6.1,>=3.1->seaborn) (3.0.9)\n",
      "Requirement already satisfied: python-dateutil>=2.7 in c:\\users\\mark lumba\\anaconda3\\lib\\site-packages (from matplotlib!=3.6.1,>=3.1->seaborn) (2.8.2)\n",
      "Requirement already satisfied: pytz>=2020.1 in c:\\users\\mark lumba\\anaconda3\\lib\\site-packages (from pandas>=0.25->seaborn) (2023.3.post1)\n",
      "Requirement already satisfied: tzdata>=2022.1 in c:\\users\\mark lumba\\anaconda3\\lib\\site-packages (from pandas>=0.25->seaborn) (2023.3)\n",
      "Requirement already satisfied: six>=1.5 in c:\\users\\mark lumba\\anaconda3\\lib\\site-packages (from python-dateutil>=2.7->matplotlib!=3.6.1,>=3.1->seaborn) (1.16.0)\n",
      "Requirement already satisfied: numpy in c:\\users\\mark lumba\\anaconda3\\lib\\site-packages (1.24.3)\n",
      "Note: you may need to restart the kernel to use updated packages.\n",
      "Requirement already satisfied: xlwings in c:\\users\\mark lumba\\anaconda3\\lib\\site-packages (0.29.1)\n",
      "Requirement already satisfied: pywin32>=224 in c:\\users\\mark lumba\\anaconda3\\lib\\site-packages (from xlwings) (305.1)\n",
      "Note: you may need to restart the kernel to use updated packages.\n",
      "Requirement already satisfied: openpyxl in c:\\users\\mark lumba\\anaconda3\\lib\\site-packages (3.0.10)\n",
      "Requirement already satisfied: et_xmlfile in c:\\users\\mark lumba\\anaconda3\\lib\\site-packages (from openpyxl) (1.1.0)\n",
      "Note: you may need to restart the kernel to use updated packages.\n"
     ]
    }
   ],
   "source": [
    "# Install neccessary libraries/frameworks\n",
    "%pip install pandas\n",
    "%pip install matplotlib\n",
    "%pip install seaborn\n",
    "%pip install numpy\n",
    "%pip install xlwings\n",
    "%pip install openpyxl\n"
   ]
  },
  {
   "cell_type": "code",
   "execution_count": 2,
   "metadata": {},
   "outputs": [
    {
     "name": "stdout",
     "output_type": "stream",
     "text": [
      "Libraries installed successfully!\n"
     ]
    }
   ],
   "source": [
    "\n",
    "import pandas as pd\n",
    "import matplotlib.pyplot as plt\n",
    "import seaborn as sns\n",
    "import xlwings as xw\n",
    "# Alternative approach using openpyxl to properly format the excel\n",
    "from openpyxl import load_workbook\n",
    "from openpyxl.utils import get_column_letter\n",
    "\n",
    "print(\"Libraries installed successfully!\")"
   ]
  },
  {
   "cell_type": "code",
   "execution_count": 3,
   "metadata": {},
   "outputs": [
    {
     "name": "stdout",
     "output_type": "stream",
     "text": [
      "        Date Portfolio name Currency                          Campaign Name  \\\n",
      "0 2025-01-02   No Portfolio      USD  CA | SP | PDP Defense | Running Board   \n",
      "1 2025-01-18   No Portfolio      USD  CA | SP | PDP Defense | Running Board   \n",
      "2 2025-01-31   No Portfolio      USD  CA | SP | PDP Defense | Running Board   \n",
      "\n",
      "               Ad Group Name Retailer          Targeting Match Type  \\\n",
      "0  Running Board | 5in Tread   Amazon  asin=\"B07QHHCGZ2\"          -   \n",
      "1  Running Board | 5in Tread   Amazon  asin=\"B07QD8XM1Q\"          -   \n",
      "2  Running Board | 5in Tread   Amazon  asin=\"B07QD8XM1Q\"          -   \n",
      "\n",
      "  Customer Search Term  Impressions  ...  7 Day Total Sales   \\\n",
      "0           b07qhhcgz2            2  ...                 0.0   \n",
      "1           b07qd8xm1q            4  ...                 0.0   \n",
      "2           b07qd8xm1q            6  ...                 0.0   \n",
      "\n",
      "   Total Advertising Cost of Sales (ACOS)   \\\n",
      "0                                      NaN   \n",
      "1                                      NaN   \n",
      "2                                      NaN   \n",
      "\n",
      "   Total Return on Advertising Spend (ROAS)  7 Day Total Orders (#)  \\\n",
      "0                                       0.0                       0   \n",
      "1                                       0.0                       0   \n",
      "2                                       0.0                       0   \n",
      "\n",
      "   7 Day Total Units (#)  7 Day Conversion Rate  \\\n",
      "0                      0                    0.0   \n",
      "1                      0                    0.0   \n",
      "2                      0                    0.0   \n",
      "\n",
      "   7 Day Advertised SKU Units (#)  7 Day Other SKU Units (#)  \\\n",
      "0                               0                          0   \n",
      "1                               0                          0   \n",
      "2                               0                          0   \n",
      "\n",
      "   7 Day Advertised SKU Sales   7 Day Other SKU Sales   \n",
      "0                          0.0                     0.0  \n",
      "1                          0.0                     0.0  \n",
      "2                          0.0                     0.0  \n",
      "\n",
      "[3 rows x 24 columns]\n"
     ]
    }
   ],
   "source": [
    "# Read sponsored products search term report for the month of jan 2025 as df\n",
    "df = pd.read_excel(\"Sponsored_Products_Search_term_report_2025-01_Jan.xlsx\")\n",
    "print(df.head(3))"
   ]
  },
  {
   "cell_type": "code",
   "execution_count": 4,
   "metadata": {},
   "outputs": [
    {
     "name": "stdout",
     "output_type": "stream",
     "text": [
      "0   2025-01-02\n",
      "1   2025-01-18\n",
      "2   2025-01-31\n",
      "3   2025-01-18\n",
      "4   2025-01-23\n",
      "Name: Date, dtype: datetime64[ns]\n"
     ]
    }
   ],
   "source": [
    "# Convert 'Date' to datetime format\n",
    "df['Date'] = pd.to_datetime(df['Date'])\n",
    "\n",
    "print(df['Date'].head())\n"
   ]
  },
  {
   "cell_type": "code",
   "execution_count": 5,
   "metadata": {},
   "outputs": [
    {
     "name": "stdout",
     "output_type": "stream",
     "text": [
      "Basic Information:\n",
      "<class 'pandas.core.frame.DataFrame'>\n",
      "RangeIndex: 5483 entries, 0 to 5482\n",
      "Data columns (total 24 columns):\n",
      " #   Column                                    Non-Null Count  Dtype         \n",
      "---  ------                                    --------------  -----         \n",
      " 0   Date                                      5483 non-null   datetime64[ns]\n",
      " 1   Portfolio name                            5483 non-null   object        \n",
      " 2   Currency                                  5483 non-null   object        \n",
      " 3   Campaign Name                             5483 non-null   object        \n",
      " 4   Ad Group Name                             5483 non-null   object        \n",
      " 5   Retailer                                  5483 non-null   object        \n",
      " 6   Targeting                                 5483 non-null   object        \n",
      " 7   Match Type                                5483 non-null   object        \n",
      " 8   Customer Search Term                      5483 non-null   object        \n",
      " 9   Impressions                               5483 non-null   int64         \n",
      " 10  Clicks                                    5483 non-null   int64         \n",
      " 11  Click-Thru Rate (CTR)                     5481 non-null   float64       \n",
      " 12  Cost Per Click (CPC)                      5483 non-null   float64       \n",
      " 13  Spend                                     5483 non-null   float64       \n",
      " 14  7 Day Total Sales                         5483 non-null   float64       \n",
      " 15  Total Advertising Cost of Sales (ACOS)    58 non-null     float64       \n",
      " 16  Total Return on Advertising Spend (ROAS)  5483 non-null   float64       \n",
      " 17  7 Day Total Orders (#)                    5483 non-null   int64         \n",
      " 18  7 Day Total Units (#)                     5483 non-null   int64         \n",
      " 19  7 Day Conversion Rate                     5483 non-null   float64       \n",
      " 20  7 Day Advertised SKU Units (#)            5483 non-null   int64         \n",
      " 21  7 Day Other SKU Units (#)                 5483 non-null   int64         \n",
      " 22  7 Day Advertised SKU Sales                5483 non-null   float64       \n",
      " 23  7 Day Other SKU Sales                     5483 non-null   float64       \n",
      "dtypes: datetime64[ns](1), float64(9), int64(6), object(8)\n",
      "memory usage: 1.0+ MB\n",
      "None\n",
      "\n",
      "Descriptive Statistics:\n",
      "                                Date  Impressions       Clicks  \\\n",
      "count                           5483  5483.000000  5483.000000   \n",
      "mean   2025-01-16 04:01:37.173080320    13.958052     1.108700   \n",
      "min              2025-01-01 00:00:00     0.000000     1.000000   \n",
      "25%              2025-01-09 00:00:00     2.000000     1.000000   \n",
      "50%              2025-01-16 00:00:00     4.000000     1.000000   \n",
      "75%              2025-01-24 00:00:00    12.000000     1.000000   \n",
      "max              2025-01-31 00:00:00   480.000000     9.000000   \n",
      "std                              NaN    31.870996     0.421342   \n",
      "\n",
      "       Click-Thru Rate (CTR)  Cost Per Click (CPC)        Spend  \\\n",
      "count            5481.000000           5483.000000  5483.000000   \n",
      "mean                0.386013              0.684242     0.762745   \n",
      "min                 0.002770              0.030000     0.030000   \n",
      "25%                 0.090909              0.410000     0.420000   \n",
      "50%                 0.250000              0.480000     0.510000   \n",
      "75%                 0.500000              0.930000     1.010000   \n",
      "max                 1.000000              5.500000     8.680000   \n",
      "std                 0.354419              0.443082     0.617240   \n",
      "\n",
      "       7 Day Total Sales   Total Advertising Cost of Sales (ACOS)   \\\n",
      "count         5483.000000                                58.000000   \n",
      "mean             3.130272                                 0.005515   \n",
      "min              0.000000                                 0.000303   \n",
      "25%              0.000000                                 0.001570   \n",
      "50%              0.000000                                 0.003190   \n",
      "75%              0.000000                                 0.006054   \n",
      "max           1199.980000                                 0.043936   \n",
      "std             35.944126                                 0.007165   \n",
      "\n",
      "       Total Return on Advertising Spend (ROAS)  7 Day Total Orders (#)  \\\n",
      "count                               5483.000000             5483.000000   \n",
      "mean                                   5.076395                0.011308   \n",
      "min                                    0.000000                0.000000   \n",
      "25%                                    0.000000                0.000000   \n",
      "50%                                    0.000000                0.000000   \n",
      "75%                                    0.000000                0.000000   \n",
      "max                                 3299.800000                2.000000   \n",
      "std                                   72.290577                0.112433   \n",
      "\n",
      "       7 Day Total Units (#)  7 Day Conversion Rate  \\\n",
      "count            5483.000000            5483.000000   \n",
      "mean                0.011308               0.009991   \n",
      "min                 0.000000               0.000000   \n",
      "25%                 0.000000               0.000000   \n",
      "50%                 0.000000               0.000000   \n",
      "75%                 0.000000               0.000000   \n",
      "max                 2.000000               2.000000   \n",
      "std                 0.112433               0.102613   \n",
      "\n",
      "       7 Day Advertised SKU Units (#)  7 Day Other SKU Units (#)  \\\n",
      "count                     5483.000000                5483.000000   \n",
      "mean                         0.006383                   0.004924   \n",
      "min                          0.000000                   0.000000   \n",
      "25%                          0.000000                   0.000000   \n",
      "50%                          0.000000                   0.000000   \n",
      "75%                          0.000000                   0.000000   \n",
      "max                          1.000000                   2.000000   \n",
      "std                          0.079648                   0.075037   \n",
      "\n",
      "       7 Day Advertised SKU Sales   7 Day Other SKU Sales   \n",
      "count                  5483.000000             5483.000000  \n",
      "mean                      1.880841                1.249431  \n",
      "min                       0.000000                0.000000  \n",
      "25%                       0.000000                0.000000  \n",
      "50%                       0.000000                0.000000  \n",
      "75%                       0.000000                0.000000  \n",
      "max                     519.990000             1199.980000  \n",
      "std                      25.476024               25.079500  \n"
     ]
    }
   ],
   "source": [
    "# Basic Information\n",
    "print(\"Basic Information:\")\n",
    "print(df.info())\n",
    "print(\"\\nDescriptive Statistics:\")\n",
    "print(df.describe())"
   ]
  },
  {
   "cell_type": "code",
   "execution_count": 6,
   "metadata": {},
   "outputs": [
    {
     "name": "stdout",
     "output_type": "stream",
     "text": [
      "\n",
      "Missing Values:\n",
      "Date                                           0\n",
      "Portfolio name                                 0\n",
      "Currency                                       0\n",
      "Campaign Name                                  0\n",
      "Ad Group Name                                  0\n",
      "Retailer                                       0\n",
      "Targeting                                      0\n",
      "Match Type                                     0\n",
      "Customer Search Term                           0\n",
      "Impressions                                    0\n",
      "Clicks                                         0\n",
      "Click-Thru Rate (CTR)                          2\n",
      "Cost Per Click (CPC)                           0\n",
      "Spend                                          0\n",
      "7 Day Total Sales                              0\n",
      "Total Advertising Cost of Sales (ACOS)      5425\n",
      "Total Return on Advertising Spend (ROAS)       0\n",
      "7 Day Total Orders (#)                         0\n",
      "7 Day Total Units (#)                          0\n",
      "7 Day Conversion Rate                          0\n",
      "7 Day Advertised SKU Units (#)                 0\n",
      "7 Day Other SKU Units (#)                      0\n",
      "7 Day Advertised SKU Sales                     0\n",
      "7 Day Other SKU Sales                          0\n",
      "dtype: int64\n"
     ]
    }
   ],
   "source": [
    "# Check for missing values\n",
    "print(\"\\nMissing Values:\")\n",
    "print(df.isnull().sum())"
   ]
  },
  {
   "cell_type": "code",
   "execution_count": 7,
   "metadata": {},
   "outputs": [
    {
     "name": "stdout",
     "output_type": "stream",
     "text": [
      "   Spend  7 Day Total Sales  7 Day Advertised SKU Sales  7 Day Other SKU Sales\n",
      "0   0.56                0.0                         0.0                    0.0\n",
      "1   0.56                0.0                         0.0                    0.0\n",
      "2   1.12                0.0                         0.0                    0.0\n",
      "3   0.56                0.0                         0.0                    0.0\n",
      "4   1.22                0.0                         0.0                    0.0\n"
     ]
    }
   ],
   "source": [
    "# Remove leading/trailing whitespaces from column names\n",
    "df.columns = df.columns.str.strip()\n",
    "\n",
    "# Columns that need dollar signs removed\n",
    "monetary_cols = ['Spend', '7 Day Total Sales', '7 Day Advertised SKU Sales', '7 Day Other SKU Sales']\n",
    "\n",
    "# Remove dollar signs and convert to float\n",
    "for col in monetary_cols:\n",
    "    df[col] = df[col].apply(lambda x: float(str(x).replace('$', '')))\n",
    "\n",
    "# Verify the changes\n",
    "print(df[monetary_cols].head())"
   ]
  },
  {
   "cell_type": "code",
   "execution_count": 8,
   "metadata": {},
   "outputs": [
    {
     "name": "stdout",
     "output_type": "stream",
     "text": [
      "   Click-Thru Rate (CTR)  7 Day Conversion Rate\n",
      "0               0.005000                    0.0\n",
      "1               0.002500                    0.0\n",
      "2               0.003333                    0.0\n",
      "3               0.005000                    0.0\n",
      "4               0.001111                    0.0\n"
     ]
    }
   ],
   "source": [
    "\n",
    "# Columns that need percentage signs removed\n",
    "percentage_cols = ['Click-Thru Rate (CTR)', '7 Day Conversion Rate']\n",
    "\n",
    "# Remove percentage signs and convert to decimal\n",
    "for col in percentage_cols:\n",
    "    df[col] = df[col].apply(lambda x: float(str(x).replace('%', ''))/ 100)\n",
    "\n",
    "# Verify the changes\n",
    "print(df[percentage_cols].head())\n"
   ]
  },
  {
   "cell_type": "code",
   "execution_count": 9,
   "metadata": {},
   "outputs": [
    {
     "name": "stdout",
     "output_type": "stream",
     "text": [
      "   Cost Per Click (CPC)\n",
      "0                  0.56\n",
      "1                  0.56\n",
      "2                  0.56\n"
     ]
    }
   ],
   "source": [
    "\n",
    "# Clean 'Cost Per Click (CPC)' by removing '$' and converting to float\n",
    "df['Cost Per Click (CPC)'] = df['Cost Per Click (CPC)'].apply(lambda x: float(str(x).replace('$', '')))\n",
    "\n",
    "# Verify the changes\n",
    "print(df[[\"Cost Per Click (CPC)\"]].head(3))"
   ]
  },
  {
   "cell_type": "code",
   "execution_count": 10,
   "metadata": {},
   "outputs": [
    {
     "name": "stdout",
     "output_type": "stream",
     "text": [
      "  Total Advertising Cost of Sales (ACOS)\n",
      "0                                   <NA>\n",
      "1                                   <NA>\n",
      "2                                   <NA>\n"
     ]
    }
   ],
   "source": [
    "# Clean 'Total Advertising Cost of Sales (ACOS)' by removing '%' and converting to decimal\n",
    "# Handle NaN values (empty strings in the data)\n",
    "# Handle NaN values and remove '%' sign, then convert to decimal\n",
    "df['Total Advertising Cost of Sales (ACOS)'] = df['Total Advertising Cost of Sales (ACOS)'].apply(lambda x: float(str(x).replace('%', '')) / 100 if pd.notnull(x) and x != '' else pd.NA)\n",
    "\n",
    "# Verify the changes\n",
    "print(df[[\"Total Advertising Cost of Sales (ACOS)\"]].head(3))"
   ]
  },
  {
   "cell_type": "code",
   "execution_count": 11,
   "metadata": {},
   "outputs": [
    {
     "name": "stdout",
     "output_type": "stream",
     "text": [
      "float64\n"
     ]
    }
   ],
   "source": [
    "# Convert 'Total Return on Advertising Spend (ROAS)' to float\n",
    "df['Total Return on Advertising Spend (ROAS)'] = df['Total Return on Advertising Spend (ROAS)'].astype(float)\n",
    "\n",
    "# Check the data type of 'Total Return on Advertising Spend (ROAS)' column\n",
    "print(df['Total Return on Advertising Spend (ROAS)'].dtype)"
   ]
  },
  {
   "cell_type": "code",
   "execution_count": 12,
   "metadata": {},
   "outputs": [
    {
     "name": "stdout",
     "output_type": "stream",
     "text": [
      "Impressions                       int32\n",
      "Clicks                            int32\n",
      "7 Day Total Orders (#)            int32\n",
      "7 Day Total Units (#)             int32\n",
      "7 Day Advertised SKU Units (#)    int32\n",
      "7 Day Other SKU Units (#)         int32\n",
      "dtype: object\n"
     ]
    }
   ],
   "source": [
    "# Ensure integer columns\n",
    "int_cols = ['Impressions', 'Clicks', '7 Day Total Orders (#)', '7 Day Total Units (#)', \n",
    "            '7 Day Advertised SKU Units (#)', '7 Day Other SKU Units (#)']\n",
    "for col in int_cols:\n",
    "    df[col] = df[col].astype(int)\n",
    "\n",
    "# Verify the data types of the specified columns\n",
    "print(df[int_cols].dtypes)"
   ]
  },
  {
   "cell_type": "markdown",
   "metadata": {},
   "source": [
    "\n",
    "\n",
    "The code defines a function named `categorize_targeting` that categorizes different targeting types in a DataFrame column called `Targeting`. It checks the beginning of each value in the `Targeting` column and assigns a category based on the following rules:\n",
    "\n",
    "1. If the value starts with \"asin=\", it is categorized as \"ASIN\".\n",
    "2. If the value starts with \"category=\", it is categorized as \"Category\".\n",
    "3. If the value is exactly \"*\", it is categorized as \"Auto\".\n",
    "4. If none of the above conditions are met, it is categorized as \"Other\".\n",
    "\n",
    "The function is then applied to the `Targeting` column of the DataFrame `df`, and the results are stored in a new column called `Targeting Type`.\n",
    "\n",
    "This way, you can easily categorize and analyze different targeting types in your DataFrame. "
   ]
  },
  {
   "cell_type": "code",
   "execution_count": 13,
   "metadata": {},
   "outputs": [],
   "source": [
    "# Categorize targeting types\n",
    "def categorize_targeting(targeting):\n",
    "    if targeting.startswith('asin='):\n",
    "        return 'ASIN'\n",
    "    elif targeting.startswith('category='):\n",
    "        return 'Category'\n",
    "    elif targeting == '*':\n",
    "        return 'Auto'\n",
    "    else:\n",
    "        return 'Other'\n",
    "\n",
    "df['Targeting Type'] = df['Targeting'].apply(categorize_targeting)\n"
   ]
  },
  {
   "cell_type": "markdown",
   "metadata": {},
   "source": [
    "\n",
    "\n",
    "### Analysis 1: Overall Performance\n",
    "\n",
    "1. **Calculations**:\n",
    "    - **Total Spend**: Calculates the sum of the `Spend` column.\n",
    "    - **Total Sales**: Calculates the sum of the `7 Day Total Sales` column.\n",
    "    - **Total Impressions**: Calculates the sum of the `Impressions` column.\n",
    "    - **Total Clicks**: Calculates the sum of the `Clicks` column.\n",
    "    - **Average CTR (Click-Through Rate)**: Calculated as `Total Clicks / Total Impressions`. If `Total Impressions` is zero, it returns 0.\n",
    "    - **Average CPC (Cost Per Click)**: Calculated as `Total Spend / Total Clicks`. If `Total Clicks` is zero, it returns 0.\n",
    "    - **Average ACOS (Advertising Cost of Sale)**: Calculated as `Total Spend / Total Sales`. If `Total Sales` is zero, it returns infinity.\n",
    "    - **Average ROAS (Return on Advertising Spend)**: Calculated as `Total Sales / Total Spend`. If `Total Spend` is zero, it returns 0.\n",
    "\n",
    "2. **Print Statements**:\n",
    "    - Displays the calculated metrics in a readable format with proper formatting.\n",
    "\n",
    "3. **Create a DataFrame with Properly Formatted Values**:\n",
    "    - A DataFrame named `df_overall_performance` is created with two columns: `Metric` and `Value`.\n",
    "    - Each metric (e.g., Total Spend, Total Sales) is listed in the `Metric` column.\n",
    "    - The calculated values are listed in the `Value` column with appropriate formatting (e.g., currency format for spend and sales, percentage format for CTR and ACOS).\n",
    "    - If the average ACOS is infinity, it is replaced with \"N/A\".\n",
    "\n",
    "4. **Print the DataFrame**:\n",
    "    - Displays the first three rows of the `df_overall_performance` DataFrame.\n",
    "\n",
    "This code provides an overview of the overall performance metrics and formats the results into a DataFrame for easy viewing and further analysis. "
   ]
  },
  {
   "cell_type": "code",
   "execution_count": 14,
   "metadata": {},
   "outputs": [
    {
     "name": "stdout",
     "output_type": "stream",
     "text": [
      "### Overall Performance ###\n",
      "Total Spend: $4182.13\n",
      "Total Sales: $17163.28\n",
      "Total Impressions: 76532\n",
      "Total Clicks: 6079\n",
      "Average CTR: 7.94%\n",
      "Average CPC: $0.69\n",
      "Average ACOS: 24.37%\n",
      "Average ROAS: 4.10\n",
      "              Metric      Value\n",
      "0        Total Spend   $4182.13\n",
      "1        Total Sales  $17163.28\n",
      "2  Total Impressions     76,532\n"
     ]
    }
   ],
   "source": [
    "# Analysis 1: Overall Performance\n",
    "total_spend = df['Spend'].sum()\n",
    "total_sales = df['7 Day Total Sales'].sum()\n",
    "total_impressions = df['Impressions'].sum()\n",
    "total_clicks = df['Clicks'].sum()\n",
    "average_ctr = total_clicks / total_impressions if total_impressions > 0 else 0\n",
    "average_cpc = total_spend / total_clicks if total_clicks > 0 else 0\n",
    "average_acos = total_spend / total_sales if total_sales > 0 else float('inf')\n",
    "average_roas = total_sales / total_spend if total_spend > 0 else 0\n",
    "\n",
    "print(\"### Overall Performance ###\")\n",
    "print(f\"Total Spend: ${total_spend:.2f}\")\n",
    "print(f\"Total Sales: ${total_sales:.2f}\")\n",
    "print(f\"Total Impressions: {total_impressions}\")\n",
    "print(f\"Total Clicks: {total_clicks}\")\n",
    "print(f\"Average CTR: {average_ctr:.2%}\")\n",
    "print(f\"Average CPC: ${average_cpc:.2f}\")\n",
    "print(f\"Average ACOS: {average_acos:.2%}\")\n",
    "print(f\"Average ROAS: {average_roas:.2f}\")\n",
    "\n",
    "\n",
    "# Create a DataFrame with properly formatted values\n",
    "df_overall_performance = pd.DataFrame({\n",
    "    \"Metric\": [\"Total Spend\", \"Total Sales\", \"Total Impressions\", \"Total Clicks\", \"Average CTR\", \"Average CPC\", \"Average ACOS\", \"Average ROAS\"],\n",
    "    \"Value\": [\n",
    "        f\"${total_spend:.2f}\", \n",
    "        f\"${total_sales:.2f}\", \n",
    "        f\"{total_impressions:,}\", \n",
    "        f\"{total_clicks:,}\", \n",
    "        f\"{average_ctr:.2%}\", \n",
    "        f\"${average_cpc:.2f}\", \n",
    "        f\"{average_acos:.2%}\" if average_acos != float('inf') else \"N/A\", \n",
    "        f\"{average_roas:.2f}\"\n",
    "    ]\n",
    "})\n",
    "\n",
    "print(df_overall_performance.head(3))"
   ]
  },
  {
   "cell_type": "markdown",
   "metadata": {},
   "source": [
    "\n",
    "\n",
    "### Analysis 2: Performance by Campaign\n",
    "\n",
    "1. **Group by 'Campaign Name'**:\n",
    "    - The code groups the DataFrame `df` by the 'Campaign Name' column.\n",
    "    - For each campaign, it calculates the sum of 'Spend', '7 Day Total Sales', 'Impressions', and 'Clicks'.\n",
    "    - The result is stored in the `campaign_performance` DataFrame.\n",
    "\n",
    "2. **Calculate ROAS (Return on Advertising Spend)**:\n",
    "    - A new column 'ROAS (Return on Advertising Spend)' is added to the `campaign_performance` DataFrame.\n",
    "    - This column is calculated by dividing '7 Day Total Sales' by 'Spend', which gives the return on advertising spend for each campaign.\n",
    "\n",
    "3. **Sort by Spend**:\n",
    "    - The `campaign_performance` DataFrame is sorted in descending order by the 'Spend' column.\n",
    "    - This ensures that campaigns with the highest spend appear first.\n",
    "\n",
    "4. **Print Top 5 Campaigns by Spend**:\n",
    "    - The top 5 campaigns (based on spend) are printed along with their 'Campaign Name', 'Spend', '7 Day Total Sales', and 'ROAS (Return on Advertising Spend)'.\n",
    "\n",
    "5. **Create a DataFrame**:\n",
    "    - The `campaign_performance` DataFrame is explicitly converted to a new DataFrame `df_performance_by_campaign`.\n",
    "    - The first three rows of `df_performance_by_campaign` are printed.\n",
    "\n",
    "This code allows you to analyze the performance of different campaigns by summarizing key metrics and calculating the ROAS. The results are sorted to highlight the top campaigns by spend, providing a clear overview of campaign performance.\n",
    "\n"
   ]
  },
  {
   "cell_type": "code",
   "execution_count": 15,
   "metadata": {},
   "outputs": [
    {
     "name": "stdout",
     "output_type": "stream",
     "text": [
      "\n",
      "### Top 5 Campaigns by Spend ###\n",
      "                                        Campaign Name    Spend  \\\n",
      "5                   CA | SP | Auto | Jeep Wrangler JK  1896.49   \n",
      "13                     CA | SP | Auto | Toyota Tundra   396.43   \n",
      "9    CA | SP | Auto | Silverado/Sierra 1500/2500/3500   357.19   \n",
      "2   CA | SP | Auto | Ford F-150/F-250/F-350 Super ...   314.72   \n",
      "6                   CA | SP | Auto | Jeep Wrangler JL   308.30   \n",
      "\n",
      "    7 Day Total Sales  ROAS (Return on Advertising Spend)  \n",
      "5             7635.32                            4.026027  \n",
      "13            2769.93                            6.987186  \n",
      "9             2692.93                            7.539209  \n",
      "2              394.99                            1.255052  \n",
      "6              784.22                            2.543691  \n",
      "                                       Campaign Name    Spend  \\\n",
      "5                  CA | SP | Auto | Jeep Wrangler JK  1896.49   \n",
      "13                    CA | SP | Auto | Toyota Tundra   396.43   \n",
      "9   CA | SP | Auto | Silverado/Sierra 1500/2500/3500   357.19   \n",
      "\n",
      "    7 Day Total Sales  Impressions  Clicks  ROAS (Return on Advertising Spend)  \n",
      "5             7635.32        51392    2969                            4.026027  \n",
      "13            2769.93         3585     451                            6.987186  \n",
      "9             2692.93         2178     329                            7.539209  \n"
     ]
    }
   ],
   "source": [
    "# Analysis 2: Performance by Campaign\n",
    "campaign_performance = df.groupby('Campaign Name').agg({\n",
    "    'Spend': 'sum',\n",
    "    '7 Day Total Sales': 'sum',\n",
    "    'Impressions': 'sum',\n",
    "    'Clicks': 'sum'\n",
    "}).reset_index()\n",
    "\n",
    "campaign_performance['ROAS (Return on Advertising Spend)'] = campaign_performance['7 Day Total Sales'] / campaign_performance['Spend']\n",
    "campaign_performance = campaign_performance.sort_values(by='Spend', ascending=False)\n",
    "\n",
    "\n",
    "print(\"\\n### Top 5 Campaigns by Spend ###\")\n",
    "print(campaign_performance.head()[['Campaign Name', 'Spend', '7 Day Total Sales', 'ROAS (Return on Advertising Spend)']])\n",
    "\n",
    "# Create a DataFrame\n",
    "df_performance_by_campaign = pd.DataFrame(campaign_performance)\n",
    "print(df_performance_by_campaign.head(3))\n",
    "\n"
   ]
  },
  {
   "cell_type": "markdown",
   "metadata": {},
   "source": [
    "\n",
    "\n",
    "### Analysis 3: Performance by Ad Group\n",
    "\n",
    "1. **Group by 'Ad Group Name'**:\n",
    "    - The code groups the DataFrame `df` by the 'Ad Group Name' column.\n",
    "    - For each ad group, it calculates the sum of 'Spend', '7 Day Advertised SKU Sales', and '7 Day Other SKU Sales'.\n",
    "    - The result is stored in the `ad_group_performance` DataFrame.\n",
    "\n",
    "2. **Calculate Total Sales**:\n",
    "    - A new column 'Total Sales' is added to the `ad_group_performance` DataFrame.\n",
    "    - This column is calculated by summing '7 Day Advertised SKU Sales' and '7 Day Other SKU Sales'.\n",
    "\n",
    "3. **Calculate ROAS (Return on Advertising Spend)**:\n",
    "    - Another new column 'ROAS (Return on Advertising Spend)' is added to the `ad_group_performance` DataFrame.\n",
    "    - This column is calculated by dividing 'Total Sales' by 'Spend', which gives the return on advertising spend for each ad group.\n",
    "\n",
    "4. **Sort by Spend**:\n",
    "    - The `ad_group_performance` DataFrame is sorted in descending order by the 'Spend' column.\n",
    "    - This ensures that ad groups with the highest spend appear first.\n",
    "\n",
    "5. **Print Top 5 Ad Groups by Spend**:\n",
    "    - The top 5 ad groups (based on spend) are printed along with their 'Ad Group Name', 'Spend', '7 Day Advertised SKU Sales', '7 Day Other SKU Sales', and 'ROAS (Return on Advertising Spend)'.\n",
    "\n",
    "6. **Create a DataFrame**:\n",
    "    - The `ad_group_performance` DataFrame is explicitly converted to a new DataFrame `df_performance_by_adgroup`.\n",
    "    - The first three rows of `df_performance_by_adgroup` are printed.\n",
    "\n",
    "This code allows you to analyze the performance of different ad groups by summarizing key metrics and calculating the ROAS. The results are sorted to highlight the top ad groups by spend, providing a clear overview of ad group performance.\n",
    "\n"
   ]
  },
  {
   "cell_type": "code",
   "execution_count": 16,
   "metadata": {},
   "outputs": [
    {
     "name": "stdout",
     "output_type": "stream",
     "text": [
      "\n",
      "### Top 5 Ad Groups by Spend ###\n",
      "          Ad Group Name   Spend  7 Day Advertised SKU Sales  \\\n",
      "6       Coil Spring Kit  768.64                      969.97   \n",
      "21             Sway Bar  697.74                     1944.94   \n",
      "24            Track Bar  567.07                     1292.92   \n",
      "15  Running Board | 6in  548.76                     2654.93   \n",
      "11        Running Board  540.38                     1974.95   \n",
      "\n",
      "    7 Day Other SKU Sales  ROAS (Return on Advertising Spend)  \n",
      "6                  152.99                            1.460970  \n",
      "21                 617.95                            3.673130  \n",
      "24                2360.78                            6.443120  \n",
      "15                 789.98                            6.277626  \n",
      "11                 789.98                            5.116640  \n",
      "      Ad Group Name   Spend  7 Day Advertised SKU Sales  \\\n",
      "6   Coil Spring Kit  768.64                      969.97   \n",
      "21         Sway Bar  697.74                     1944.94   \n",
      "24        Track Bar  567.07                     1292.92   \n",
      "\n",
      "    7 Day Other SKU Sales  Total Sales  ROAS (Return on Advertising Spend)  \n",
      "6                  152.99      1122.96                             1.46097  \n",
      "21                 617.95      2562.89                             3.67313  \n",
      "24                2360.78      3653.70                             6.44312  \n"
     ]
    }
   ],
   "source": [
    "# Analysis 3: Performance by Ad Group\n",
    "ad_group_performance = df.groupby('Ad Group Name').agg({\n",
    "    'Spend': 'sum',\n",
    "    '7 Day Advertised SKU Sales': 'sum',\n",
    "    '7 Day Other SKU Sales': 'sum'\n",
    "}).reset_index()\n",
    "\n",
    "ad_group_performance['Total Sales'] = ad_group_performance['7 Day Advertised SKU Sales'] + ad_group_performance['7 Day Other SKU Sales']\n",
    "ad_group_performance['ROAS (Return on Advertising Spend)'] = ad_group_performance['Total Sales'] / ad_group_performance['Spend']\n",
    "ad_group_performance = ad_group_performance.sort_values(by='Spend', ascending=False)\n",
    "\n",
    "print(\"\\n### Top 5 Ad Groups by Spend ###\")\n",
    "print(ad_group_performance.head(5)[['Ad Group Name', 'Spend', '7 Day Advertised SKU Sales', '7 Day Other SKU Sales', 'ROAS (Return on Advertising Spend)']])\n",
    "\n",
    "# Create a DataFrame\n",
    "df_performance_by_adgroup = pd.DataFrame(ad_group_performance)\n",
    "print(df_performance_by_adgroup.head(3))\n"
   ]
  },
  {
   "cell_type": "markdown",
   "metadata": {},
   "source": [
    "\n",
    "\n",
    "### Analysis 4: Performance by Targeting Type\n",
    "\n",
    "1. **Group by 'Targeting Type'**:\n",
    "    - The code groups the DataFrame `df` by the 'Targeting Type' column.\n",
    "    - For each targeting type, it calculates the sum of 'Spend', '7 Day Total Sales', 'Impressions', and 'Clicks'.\n",
    "    - The result is stored in the `targeting_performance` DataFrame.\n",
    "\n",
    "2. **Calculate ROAS (Return on Advertising Spend)**:\n",
    "    - A new column 'ROAS (Return on Advertising Spend)' is added to the `targeting_performance` DataFrame.\n",
    "    - This column is calculated by dividing '7 Day Total Sales' by 'Spend', which gives the return on advertising spend for each targeting type.\n",
    "\n",
    "3. **Print Performance by Targeting Type**:\n",
    "    - The performance metrics for each targeting type are printed, including 'Targeting Type', 'Spend', '7 Day Total Sales', and 'ROAS (Return on Advertising Spend)'.\n",
    "\n",
    "4. **Create a DataFrame**:\n",
    "    - The `targeting_performance` DataFrame is explicitly converted to a new DataFrame `df_performance_by_targetingtype`.\n",
    "    - The first three rows of `df_performance_by_targetingtype` are printed.\n",
    "\n",
    "This code allows you to analyze the performance of different targeting types by summarizing key metrics and calculating the ROAS. The results provide a clear overview of how each targeting type is performing in terms of spend, sales, impressions, clicks, and ROAS.\n",
    "\n"
   ]
  },
  {
   "cell_type": "code",
   "execution_count": 17,
   "metadata": {},
   "outputs": [
    {
     "name": "stdout",
     "output_type": "stream",
     "text": [
      "\n",
      "### Performance by Targeting Type ###\n",
      "  Targeting Type    Spend  7 Day Total Sales  \\\n",
      "0           ASIN   196.07             996.95   \n",
      "1           Auto  3681.07           16166.33   \n",
      "2       Category    74.10               0.00   \n",
      "3          Other   230.89               0.00   \n",
      "\n",
      "   ROAS (Return on Advertising Spend)  \n",
      "0                            5.084664  \n",
      "1                            4.391748  \n",
      "2                            0.000000  \n",
      "3                            0.000000  \n",
      "  Targeting Type    Spend  7 Day Total Sales  Impressions  Clicks  \\\n",
      "0           ASIN   196.07             996.95         4077     144   \n",
      "1           Auto  3681.07           16166.33        67991    5602   \n",
      "2       Category    74.10               0.00         1739     174   \n",
      "\n",
      "   ROAS (Return on Advertising Spend)  \n",
      "0                            5.084664  \n",
      "1                            4.391748  \n",
      "2                            0.000000  \n"
     ]
    }
   ],
   "source": [
    "# Analysis 4: Performance by Targeting Type\n",
    "targeting_performance = df.groupby('Targeting Type').agg({\n",
    "    'Spend': 'sum',\n",
    "    '7 Day Total Sales': 'sum',\n",
    "    'Impressions': 'sum',\n",
    "    'Clicks': 'sum'\n",
    "}).reset_index()\n",
    "\n",
    "targeting_performance['ROAS (Return on Advertising Spend)'] = targeting_performance['7 Day Total Sales'] / targeting_performance['Spend']\n",
    "print(\"\\n### Performance by Targeting Type ###\")\n",
    "print(targeting_performance[['Targeting Type', 'Spend', '7 Day Total Sales', 'ROAS (Return on Advertising Spend)']])\n",
    "\n",
    "# Create a DataFrame\n",
    "df_performance_by_targetingtype = pd.DataFrame(targeting_performance)\n",
    "print(df_performance_by_targetingtype.head(3))"
   ]
  },
  {
   "cell_type": "markdown",
   "metadata": {},
   "source": [
    "\n",
    "### Analysis 5: Top Keywords for Auto Campaigns\n",
    "\n",
    "1. **Filter for Auto Campaigns**:\n",
    "    - The code filters the DataFrame `df` to include only rows where the `Targeting` column equals `*`, which indicates auto campaigns.\n",
    "\n",
    "2. **Group by 'Customer Search Term'**:\n",
    "    - The filtered data is then grouped by the `Customer Search Term` column.\n",
    "    - For each search term, it calculates the sum of 'Spend', '7 Day Total Sales', 'Impressions', and 'Clicks'.\n",
    "    - The result is stored in the `keyword_performance` DataFrame.\n",
    "\n",
    "3. **Calculate ROAS (Return on Advertising Spend)**:\n",
    "    - A new column 'ROAS (Return on Advertising Spend)' is added to the `keyword_performance` DataFrame.\n",
    "    - This column is calculated by dividing '7 Day Total Sales' by 'Spend', which gives the return on advertising spend for each keyword.\n",
    "\n",
    "4. **Sort by Spend**:\n",
    "    - The `keyword_performance` DataFrame is sorted in descending order by the 'Spend' column.\n",
    "    - This ensures that keywords with the highest spend appear first.\n",
    "\n",
    "5. **Print Top 5 Keywords by Spend**:\n",
    "    - The top 5 keywords (based on spend) are printed along with their 'Customer Search Term', 'Spend', '7 Day Total Sales', and 'ROAS (Return on Advertising Spend)'.\n",
    "\n",
    "6. **Create a DataFrame**:\n",
    "    - The `keyword_performance` DataFrame is explicitly converted to a new DataFrame `df_performance_by_autocampaigns`.\n",
    "    - The first three rows of `df_performance_by_autocampaigns` are printed.\n",
    "\n",
    "This code allows you to analyze the performance of different keywords used in auto campaigns by summarizing key metrics and calculating the ROAS. The results are sorted to highlight the top keywords by spend, providing a clear overview of keyword performance in auto campaigns.\n",
    "\n"
   ]
  },
  {
   "cell_type": "code",
   "execution_count": 18,
   "metadata": {},
   "outputs": [
    {
     "name": "stdout",
     "output_type": "stream",
     "text": [
      "\n",
      "### Top 5 Keywords by Spend (Auto Campaigns) ###\n",
      "       Customer Search Term  Spend  7 Day Total Sales  \\\n",
      "797              b07d3br1p9  76.58               0.00   \n",
      "2596         running boards  69.29             789.98   \n",
      "947              b07r1933kn  29.77             419.99   \n",
      "2545  raptor running boards  21.58               0.00   \n",
      "2647    steering stabilizer  17.97               0.00   \n",
      "\n",
      "      ROAS (Return on Advertising Spend)  \n",
      "797                             0.000000  \n",
      "2596                           11.401068  \n",
      "947                            14.107827  \n",
      "2545                            0.000000  \n",
      "2647                            0.000000  \n",
      "     Customer Search Term  Spend  7 Day Total Sales  Impressions  Clicks  \\\n",
      "797            b07d3br1p9  76.58               0.00         9609     131   \n",
      "2596       running boards  69.29             789.98         2059      78   \n",
      "947            b07r1933kn  29.77             419.99         2605      53   \n",
      "\n",
      "      ROAS (Return on Advertising Spend)  \n",
      "797                             0.000000  \n",
      "2596                           11.401068  \n",
      "947                            14.107827  \n"
     ]
    }
   ],
   "source": [
    "# Analysis 5: Top Keywords for Auto Campaigns\n",
    "keyword_performance = df[df['Targeting'] == '*'].groupby('Customer Search Term').agg({\n",
    "    'Spend': 'sum',\n",
    "    '7 Day Total Sales': 'sum',\n",
    "    'Impressions': 'sum',\n",
    "    'Clicks': 'sum'\n",
    "}).reset_index()\n",
    "\n",
    "keyword_performance['ROAS (Return on Advertising Spend)'] = keyword_performance['7 Day Total Sales'] / keyword_performance['Spend']\n",
    "keyword_performance = keyword_performance.sort_values(by='Spend', ascending=False)\n",
    "print(\"\\n### Top 5 Keywords by Spend (Auto Campaigns) ###\")\n",
    "print(keyword_performance.head(5)[['Customer Search Term', 'Spend', '7 Day Total Sales', 'ROAS (Return on Advertising Spend)']])\n",
    "\n",
    "# Create a DataFrame\n",
    "df_performance_by_autocampaigns = pd.DataFrame(keyword_performance)\n",
    "print(df_performance_by_autocampaigns.head(3))\n"
   ]
  },
  {
   "cell_type": "markdown",
   "metadata": {},
   "source": [
    "\n",
    "\n",
    "### Analysis 6: Cross-Selling Analysis\n",
    "\n",
    "1. **Calculations**:\n",
    "    - **Total Advertised SKU Sales**: Calculates the sum of the `7 Day Advertised SKU Sales` column.\n",
    "    - **Total Other SKU Sales**: Calculates the sum of the `7 Day Other SKU Sales` column.\n",
    "    - **Cross-Sell Ratio**: Calculated as `Total Other SKU Sales / Total Advertised SKU Sales`. If `Total Advertised SKU Sales` is zero, it returns 0.\n",
    "\n",
    "2. **Print Statements**:\n",
    "    - Displays the calculated metrics in a readable format with proper formatting.\n",
    "\n",
    "3. **Create a DataFrame**:\n",
    "    - A DataFrame named `df_cross_selling_analysis` is created with two columns: `Metric` and `Value`.\n",
    "    - Each metric (e.g., Total Advertised SKU Sales, Total Other SKU Sales) is listed in the `Metric` column.\n",
    "    - The calculated values are listed in the `Value` column.\n",
    "\n",
    "4. **Print the DataFrame**:\n",
    "    - Displays the first three rows of the `df_cross_selling_analysis` DataFrame.\n",
    "\n",
    "This code provides an overview of the cross-selling performance metrics and formats the results into a DataFrame for easy viewing and further analysis. "
   ]
  },
  {
   "cell_type": "code",
   "execution_count": 19,
   "metadata": {},
   "outputs": [
    {
     "name": "stdout",
     "output_type": "stream",
     "text": [
      "\n",
      "### Cross-Selling Analysis ###\n",
      "Total Advertised SKU Sales: $10312.65\n",
      "Total Other SKU Sales: $6850.63\n",
      "Cross-Sell Ratio (Other / Advertised): 0.66\n",
      "     Customer Search Term  Spend  7 Day Total Sales  Impressions  Clicks  \\\n",
      "797            b07d3br1p9  76.58               0.00         9609     131   \n",
      "2596       running boards  69.29             789.98         2059      78   \n",
      "947            b07r1933kn  29.77             419.99         2605      53   \n",
      "\n",
      "      ROAS (Return on Advertising Spend)  \n",
      "797                             0.000000  \n",
      "2596                           11.401068  \n",
      "947                            14.107827  \n"
     ]
    }
   ],
   "source": [
    "# Analysis 6: Cross-Selling Analysis\n",
    "total_advertised_sales = df['7 Day Advertised SKU Sales'].sum()\n",
    "total_other_sales = df['7 Day Other SKU Sales'].sum()\n",
    "cross_sell_ratio = total_other_sales / total_advertised_sales if total_advertised_sales > 0 else 0\n",
    "\n",
    "print(\"\\n### Cross-Selling Analysis ###\")\n",
    "print(f\"Total Advertised SKU Sales: ${total_advertised_sales:.2f}\")\n",
    "print(f\"Total Other SKU Sales: ${total_other_sales:.2f}\")\n",
    "print(f\"Cross-Sell Ratio (Other / Advertised): {cross_sell_ratio:.2f}\")\n",
    "\n",
    "# Sample data\n",
    "column2 = {\n",
    "    \"Metric\": [\"Total Advertised SKU Sales\", \"Total Other SKU Sales\", \"Cross-Sell Ratio (Other / Advertised)\"],\n",
    "    \"Value\": [total_advertised_sales, total_other_sales, cross_sell_ratio]\n",
    "}\n",
    "\n",
    "\n",
    "# Create a DataFrame\n",
    "df_cross_selling_analysis = pd.DataFrame(column2)\n",
    "print(df_performance_by_autocampaigns.head(3))"
   ]
  },
  {
   "cell_type": "markdown",
   "metadata": {},
   "source": [
    "\n",
    "\n",
    "### Visualization: Daily Spend and Sales Trend\n",
    "\n",
    "1. **Calculate Daily Performance**:\n",
    "    - The code groups the DataFrame `df` by the 'Date' column.\n",
    "    - For each date, it calculates the sum of 'Spend' and '7 Day Total Sales'.\n",
    "    - The result is stored in the `daily_performance` DataFrame.\n",
    "\n",
    "2. **Create a Plot**:\n",
    "    - A new figure is created with a specified size (12 by 6 inches).\n",
    "    - Two line plots are created:\n",
    "      - The first plot shows the 'Spend' trend over time, with 'Date' on the x-axis and 'Spend' on the y-axis, colored blue and labeled 'Spend'.\n",
    "      - The second plot shows the '7 Day Total Sales' trend over time, with 'Date' on the x-axis and '7 Day Total Sales' on the y-axis, colored green and labeled 'Sales'.\n",
    "\n",
    "3. **Add Titles and Labels**:\n",
    "    - The plot is given a title: \"Daily Spend and Sales Trend\".\n",
    "    - The x-axis is labeled 'Date'.\n",
    "    - The y-axis is labeled 'Amount ($)'.\n",
    "    - A legend is added to distinguish between 'Spend' and 'Sales' lines.\n",
    "\n",
    "4. **Format the x-axis**:\n",
    "    - The x-axis tick labels (dates) are rotated 45 degrees for better readability.\n",
    "\n",
    "5. **Adjust Layout and Show the Plot**:\n",
    "    - The layout is adjusted to ensure the plot fits well within the figure.\n",
    "    - The plot is displayed.\n",
    "\n",
    "This code provides a visual representation of the daily trends in spend and sales, allowing you to easily observe patterns and changes over time.\n",
    "\n"
   ]
  },
  {
   "cell_type": "code",
   "execution_count": 20,
   "metadata": {},
   "outputs": [
    {
     "data": {
      "image/png": "[encoded data removed]",
      "text/plain": [
       "<Figure size 1200x600 with 1 Axes>"
      ]
     },
     "metadata": {},
     "output_type": "display_data"
    }
   ],
   "source": [
    "# Visualization: Daily Spend and Sales Trend\n",
    "daily_performance = df.groupby('Date').agg({\n",
    "    'Spend': 'sum',\n",
    "    '7 Day Total Sales': 'sum'\n",
    "}).reset_index()\n",
    "\n",
    "plt.figure(figsize=(12, 6))\n",
    "plt.plot(daily_performance['Date'], daily_performance['Spend'], label='Spend', color='blue')\n",
    "plt.plot(daily_performance['Date'], daily_performance['7 Day Total Sales'], label='Sales', color='green')\n",
    "plt.title('Daily Spend and Sales Trend')\n",
    "plt.xlabel('Date')\n",
    "plt.ylabel('Amount ($)')\n",
    "plt.legend()\n",
    "plt.xticks(rotation=45)\n",
    "plt.tight_layout()\n",
    "plt.show()"
   ]
  },
  {
   "cell_type": "code",
   "execution_count": 21,
   "metadata": {},
   "outputs": [
    {
     "name": "stdout",
     "output_type": "stream",
     "text": [
      "All analyses saved to multi_analysis.xlsx with different sheets\n",
      "Excel columns in multi_analysis.xlsx have been adjusted successfully with openpyxl.\n"
     ]
    },
    {
     "data": {
      "text/plain": [
       "True"
      ]
     },
     "execution_count": 21,
     "metadata": {},
     "output_type": "execute_result"
    }
   ],
   "source": [
    "# Save to different sheets in the same Excel file\n",
    "with pd.ExcelWriter('multi_analysis.xlsx') as writer:\n",
    "    df_overall_performance.to_excel(writer, sheet_name='Analysis 1 - Overall', index=False)\n",
    "    df_performance_by_campaign.to_excel(writer, sheet_name='Analysis 2 - Campaign', index=False)\n",
    "    df_performance_by_adgroup.to_excel(writer, sheet_name='Analysis 3 - Ad Group', index=False)\n",
    "    df_performance_by_targetingtype.to_excel(writer, sheet_name='Analysis 4 - Targeting', index=False)\n",
    "    df_performance_by_autocampaigns.to_excel(writer, sheet_name='Analysis 5 - Keywords', index=False)\n",
    "    df_cross_selling_analysis.to_excel(writer, sheet_name='Analysis 6 - Cross-Selling', index=False)\n",
    "    daily_performance.to_excel(writer, sheet_name='Visualization - Daily', index=False)\n",
    "\n",
    "print(\"All analyses saved to multi_analysis.xlsx with different sheets\")\n",
    "\n",
    "# Function to autofit column widths\n",
    "def autofit_columns_with_openpyxl(filename):\n",
    "    try:\n",
    "        workbook = load_workbook(filename)\n",
    "        \n",
    "        for worksheet_name in workbook.sheetnames:\n",
    "            worksheet = workbook[worksheet_name]\n",
    "            \n",
    "            for column in worksheet.columns:\n",
    "                max_length = 0\n",
    "                column_letter = get_column_letter(column[0].column)\n",
    "                \n",
    "                for cell in column:\n",
    "                    if cell.value:\n",
    "                        max_length = max(max_length, len(str(cell.value)))\n",
    "                \n",
    "                # Adjust column width (with some padding)\n",
    "                adjusted_width = max_length + 2\n",
    "                worksheet.column_dimensions[column_letter].width = adjusted_width\n",
    "        \n",
    "        workbook.save(filename)\n",
    "        print(f\"Excel columns in {filename} have been adjusted successfully with openpyxl.\")\n",
    "        return True\n",
    "    except Exception as e:\n",
    "        print(f\"Error adjusting columns with openpyxl: {e}\")\n",
    "        return False\n",
    "\n",
    "# Call the function to autofit columns\n",
    "autofit_columns_with_openpyxl('multi_analysis.xlsx')"
   ]
  }
 ],
 "metadata": {
  "kernelspec": {
   "display_name": "base",
   "language": "python",
   "name": "python3"
  },
  "language_info": {
   "codemirror_mode": {
    "name": "ipython",
    "version": 3
   },
   "file_extension": ".py",
   "mimetype": "text/x-python",
   "name": "python",
   "nbconvert_exporter": "python",
   "pygments_lexer": "ipython3",
   "version": "3.11.5"
  }
 },
 "nbformat": 4,
 "nbformat_minor": 2
}
